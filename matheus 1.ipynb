{
 "cells": [
  {
   "cell_type": "code",
   "execution_count": null,
   "metadata": {},
   "outputs": [],
   "source": [
    "body {\n",
    "    font-family: Arial, sans-serif;\n",
    "    background-color: #f0f0f0;\n",
    "    margin: 0;\n",
    "    padding: 0;\n",
    "}\n",
    "\n",
    "header {\n",
    "    background-color: #333;\n",
    "    color: #fff;\n",
    "    padding: 20px;\n",
    "    text-align: center;\n",
    "}\n",
    "\n",
    "main {\n",
    "    display: flex;\n",
    "    flex-wrap: wrap;\n",
    "    justify-content: center;\n",
    "    padding: 20px;\n",
    "}\n",
    "\n",
    ".video-card {\n",
    "    background-color: #fff;\n",
    "    border: 1px solid #ddd;\n",
    "    border-radius: 8px;\n",
    "    box-shadow: 0 2px 4px rgba(0, 0, 0, 0.1);\n",
    "    margin: 10px;\n",
    "    padding: 20px;\n",
    "    text-align: center;\n",
    "    width: 320px;\n",
    "}\n",
    "\n",
    ".video-card h2 {\n",
    "    font-size: 18px;\n",
    "    margin: 10px 0;\n",
    "}\n",
    "\n",
    ".video-card p {\n",
    "    color: #666;\n",
    "    font-size: 14px;\n",
    "}"
   ]
  }
 ],
 "metadata": {
  "language_info": {
   "name": "python"
  }
 },
 "nbformat": 4,
 "nbformat_minor": 2
}
